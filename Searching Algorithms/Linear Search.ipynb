{
 "cells": [
  {
   "cell_type": "markdown",
   "metadata": {},
   "source": [
    "Linear Search"
   ]
  },
  {
   "cell_type": "markdown",
   "metadata": {},
   "source": [
    "An array arr and target x will be passed to function. If the array contains the target, the function should return the index or else -1."
   ]
  },
  {
   "cell_type": "code",
   "execution_count": 2,
   "metadata": {},
   "outputs": [
    {
     "name": "stdout",
     "output_type": "stream",
     "text": [
      "Result1 : -1\n",
      "Result2 : 39\n"
     ]
    }
   ],
   "source": [
    "def search(arr, x):\n",
    "    for i in arr:\n",
    "        if x == i:\n",
    "            return i\n",
    "    return -1\n",
    "\n",
    "#Test\n",
    "arr = [2,3,4,5,6,7,695,495,39]\n",
    "x = 10\n",
    "\n",
    "result1 = search(arr, x)\n",
    "print('Result1 : {}'.format(result1))\n",
    "\n",
    "x = 39\n",
    "result2 = search(arr, x)\n",
    "print('Result2 : {}'.format(result2))"
   ]
  },
  {
   "cell_type": "markdown",
   "metadata": {},
   "source": [
    "The time complexity of this algorithm is O(n)"
   ]
  },
  {
   "cell_type": "code",
   "execution_count": null,
   "metadata": {},
   "outputs": [],
   "source": []
  }
 ],
 "metadata": {
  "kernelspec": {
   "display_name": "Python 3",
   "language": "python",
   "name": "python3"
  },
  "language_info": {
   "codemirror_mode": {
    "name": "ipython",
    "version": 3
   },
   "file_extension": ".py",
   "mimetype": "text/x-python",
   "name": "python",
   "nbconvert_exporter": "python",
   "pygments_lexer": "ipython3",
   "version": "3.7.3"
  }
 },
 "nbformat": 4,
 "nbformat_minor": 2
}
