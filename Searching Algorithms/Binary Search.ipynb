{
 "cells": [
  {
   "cell_type": "markdown",
   "metadata": {},
   "source": [
    "Binary Search"
   ]
  },
  {
   "cell_type": "markdown",
   "metadata": {},
   "source": [
    "Search a sorted array by continuously dividing it into halves. \n",
    "First point is the mid of array. If the values we are searching for is less than the mid point we begin searching from the left part of divided array else we search in the right part of the array. This continues till the mid point is the element we are searching for."
   ]
  },
  {
   "cell_type": "code",
   "execution_count": 15,
   "metadata": {},
   "outputs": [
    {
     "name": "stdout",
     "output_type": "stream",
     "text": [
      "The target elment index is 3\n"
     ]
    }
   ],
   "source": [
    "def BinarySearch(arr, l, r, target):\n",
    "    \n",
    "    #check r(right) and l(left)\n",
    "    if r >= l:\n",
    "        mid = l +(r-1)//2\n",
    "        if arr[mid] == target:\n",
    "            return mid\n",
    "        elif arr[mid] > target:\n",
    "            return BinarySearch(arr, l, mid-1, target)\n",
    "        else:\n",
    "            return BinarySearch(arr, mid+1, r, target)\n",
    "    \n",
    "    else:\n",
    "        return -1\n",
    "    \n",
    "# Test array \n",
    "arr = [ 2, 3, 4, 10, 40 ] \n",
    "target = 10\n",
    "\n",
    "#Function call\n",
    "result = BinarySearch(arr, 0, len(arr)-1, target)\n",
    "\n",
    "if result != -1:\n",
    "    print('The target elment index is {}'.format(result))\n",
    "else:\n",
    "    print('The target element was not found')\n",
    "            "
   ]
  },
  {
   "cell_type": "markdown",
   "metadata": {},
   "source": [
    "This was recursive implementation of binary search"
   ]
  },
  {
   "cell_type": "markdown",
   "metadata": {},
   "source": [
    "The following is iterative implementation of binary search"
   ]
  },
  {
   "cell_type": "code",
   "execution_count": 20,
   "metadata": {},
   "outputs": [
    {
     "name": "stdout",
     "output_type": "stream",
     "text": [
      "The target element was not found\n"
     ]
    }
   ],
   "source": [
    "def BinarySearch(arr, l, r, target):\n",
    "    while(r>=l):\n",
    "        mid = l + (r-l)//2\n",
    "        if arr[mid]==target:\n",
    "            return mid\n",
    "        elif arr[mid]>target:\n",
    "            r = mid -1\n",
    "        else:\n",
    "            l = mid +1\n",
    "    return -1\n",
    "\n",
    "arr = [4,5,6,7,44,2,22,3,34]\n",
    "arr.sort()\n",
    "target = 45\n",
    "\n",
    "result = BinarySearch(arr, 0, len(arr)-1, target)\n",
    "\n",
    "if result != -1:\n",
    "    print('The target element index is {}'.format(result))\n",
    "else:\n",
    "    print('The target element was not found')"
   ]
  },
  {
   "cell_type": "markdown",
   "metadata": {},
   "source": [
    "Time Complexity of Binary Search\n",
    "\n"
   ]
  }
 ],
 "metadata": {
  "kernelspec": {
   "display_name": "Python 3",
   "language": "python",
   "name": "python3"
  },
  "language_info": {
   "codemirror_mode": {
    "name": "ipython",
    "version": 3
   },
   "file_extension": ".py",
   "mimetype": "text/x-python",
   "name": "python",
   "nbconvert_exporter": "python",
   "pygments_lexer": "ipython3",
   "version": "3.7.3"
  }
 },
 "nbformat": 4,
 "nbformat_minor": 2
}
